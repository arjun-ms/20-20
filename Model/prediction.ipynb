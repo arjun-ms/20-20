{
 "cells": [
  {
   "cell_type": "markdown",
   "id": "fb09cad4",
   "metadata": {},
   "source": [
    "## Part 4 - Making prediction"
   ]
  },
  {
   "cell_type": "code",
   "execution_count": null,
   "id": "c6bc823e",
   "metadata": {},
   "outputs": [],
   "source": "# Import necessary libraries\nimport numpy as np  # For numerical operations and array handling\nimport cv2  # OpenCV for image processing\nimport keras  # For loading the trained model\nimport os  # For file path operations"
  },
  {
   "cell_type": "code",
   "execution_count": null,
   "id": "78b26d23",
   "metadata": {},
   "outputs": [],
   "source": "# Preprocessing function for user input images\ndef image(path):\n    # Read the image in grayscale mode\n    img = cv2.imread(path, cv2.IMREAD_GRAYSCALE)\n    \n    # Resize the image to 224x224 pixels to match model input requirements\n    new_arr = cv2.resize(img, (224, 224))\n    \n    # Normalize pixel values to range [0, 1] by dividing by 255\n    new_arr = np.array(new_arr)/255\n    \n    # Reshape to match model input shape: (batch_size, height, width, channels)\n    # -1 means infer batch size, 1 channel for grayscale\n    new_arr = new_arr.reshape(-1, 224, 224, 1)\n    \n    return new_arr"
  },
  {
   "cell_type": "code",
   "execution_count": null,
   "id": "dc422667",
   "metadata": {},
   "outputs": [],
   "source": "# Load the pre-trained model from the Server directory\nmodel = keras.models.load_model('../Server/3-class-improved.h5')"
  },
  {
   "cell_type": "code",
   "execution_count": null,
   "id": "f0421a50",
   "metadata": {
    "scrolled": true
   },
   "outputs": [],
   "source": "# Get prediction probabilities for the test image\nresult = model.predict([image('test_images/mohanlal.png')])\n\n# Interpret the prediction results\n# Model outputs 3 probabilities: [Mammootty, Mohanlal, Unknown]\n# Compare probabilities to determine which class has the highest confidence\nif result[0][0] > result[0][1] and result[0][0] > result[0][2]:\n    prediction = 'Mammootty'\nelif result[0][1] > result[0][0] and result[0][1] > result[0][2]:\n    prediction = 'Mohanlal'\nelse:\n    # If the third class has highest probability, the person is unrecognized\n    prediction = 'I dont know this guy!'\n    \nprint(prediction)"
  },
  {
   "cell_type": "code",
   "execution_count": null,
   "id": "d4e027f0",
   "metadata": {},
   "outputs": [],
   "source": []
  }
 ],
 "metadata": {
  "kernelspec": {
   "display_name": "Python 3.10.5 64-bit",
   "language": "python",
   "name": "python3"
  },
  "language_info": {
   "codemirror_mode": {
    "name": "ipython",
    "version": 3
   },
   "file_extension": ".py",
   "mimetype": "text/x-python",
   "name": "python",
   "nbconvert_exporter": "python",
   "pygments_lexer": "ipython3",
   "version": "3.10.5"
  },
  "vscode": {
   "interpreter": {
    "hash": "e7370f93d1d0cde622a1f8e1c04877d8463912d04d973331ad4851f04de6915a"
   }
  }
 },
 "nbformat": 4,
 "nbformat_minor": 5
}