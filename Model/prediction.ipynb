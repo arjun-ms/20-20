{
 "cells": [
  {
   "cell_type": "markdown",
   "id": "fb09cad4",
   "metadata": {},
   "source": [
    "## Part 4 - Making prediction"
   ]
  },
  {
   "cell_type": "code",
   "execution_count": 1,
   "id": "c6bc823e",
   "metadata": {},
   "outputs": [],
   "source": [
    "import numpy as np\n",
    "import cv2\n",
    "import keras\n",
    "import os"
   ]
  },
  {
   "cell_type": "code",
   "execution_count": 2,
   "id": "78b26d23",
   "metadata": {},
   "outputs": [],
   "source": [
    "#preprocessing the user input\n",
    "def image(path):\n",
    "    img = cv2.imread(path, cv2.IMREAD_GRAYSCALE)\n",
    "    new_arr = cv2.resize(img, (224, 224))\n",
    "    new_arr = np.array(new_arr)/255\n",
    "    new_arr = new_arr.reshape(-1, 224,224, 1)\n",
    "    return new_arr"
   ]
  },
  {
   "cell_type": "code",
   "execution_count": 3,
   "id": "dc422667",
   "metadata": {},
   "outputs": [],
   "source": [
    "model = keras.models.load_model('../Server/3-class-improved.h5')"
   ]
  },
  {
   "cell_type": "code",
   "execution_count": 23,
   "id": "f0421a50",
   "metadata": {
    "scrolled": true
   },
   "outputs": [
    {
     "name": "stdout",
     "output_type": "stream",
     "text": [
      "mohanlal\n"
     ]
    }
   ],
   "source": [
    "result = model.predict([image('test_images/mohanlal.png')])\n",
    "\n",
    "if result[0][0] > result[0][1] and result[0][0] > result[0][2]:\n",
    "    prediction = 'Mammootty'\n",
    "elif result[0][1] > result[0][0] and result[0][1] > result[0][2]:\n",
    "    prediction = 'Mohanlal'\n",
    "else:\n",
    "    prediction = 'I dont know this guy!'\n",
    "    \n",
    "print(prediction)"
   ]
  },
  {
   "cell_type": "code",
   "execution_count": null,
   "id": "d4e027f0",
   "metadata": {},
   "outputs": [],
   "source": []
  }
 ],
 "metadata": {
  "kernelspec": {
   "display_name": "Python 3.10.5 64-bit",
   "language": "python",
   "name": "python3"
  },
  "language_info": {
   "codemirror_mode": {
    "name": "ipython",
    "version": 3
   },
   "file_extension": ".py",
   "mimetype": "text/x-python",
   "name": "python",
   "nbconvert_exporter": "python",
   "pygments_lexer": "ipython3",
   "version": "3.10.5"
  },
  "vscode": {
   "interpreter": {
    "hash": "e7370f93d1d0cde622a1f8e1c04877d8463912d04d973331ad4851f04de6915a"
   }
  }
 },
 "nbformat": 4,
 "nbformat_minor": 5
}
