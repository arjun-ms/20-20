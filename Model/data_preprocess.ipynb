{
 "cells": [
  {
   "cell_type": "markdown",
   "id": "378c559d",
   "metadata": {},
   "source": [
    "## Part 1 - Data Preprocessing\n"
   ]
  },
  {
   "cell_type": "code",
   "execution_count": null,
   "id": "3b0a337f",
   "metadata": {},
   "outputs": [],
   "source": [
    "import numpy as np\n",
    "import cv2 as cv\n",
    "import random\n",
    "import os\n",
    "import matplotlib.pyplot as plt\n",
    "import pickle\n",
    "%matplotlib inline"
   ]
  },
  {
   "cell_type": "code",
   "execution_count": null,
   "id": "850322e9",
   "metadata": {},
   "outputs": [],
   "source": [
    "DIRECTORY = r'C:\\Users\\Arjun M S\\Desktop\\build-from-home\\dataset'\n",
    "# a raw string(r'...') is used to treat backslash(\\) as a normal character\n",
    "CATEGORIES = ['mammooty','mohanlal','random']"
   ]
  },
  {
   "cell_type": "code",
   "execution_count": null,
   "id": "f01e99e7",
   "metadata": {},
   "outputs": [],
   "source": [
    "\n",
    "IMG_SIZE = 224\n",
    "\n",
    "data = []\n",
    "\n",
    "# labelling the data\n",
    "for category in CATEGORIES:\n",
    "    folder = os.path.join(DIRECTORY, category)\n",
    "    for img in os.listdir(folder):\n",
    "        img_path = os.path.join(folder, img)\n",
    "        label = CATEGORIES.index(category)\n",
    "        img_arr = cv.imread(img_path, cv.IMREAD_GRAYSCALE)\n",
    "        img_arr = cv.resize(img_arr,(IMG_SIZE,IMG_SIZE))\n",
    "        data.append([img_arr,label])\n"
   ]
  },
  {
   "cell_type": "code",
   "execution_count": null,
   "id": "738cc5fa",
   "metadata": {},
   "outputs": [],
   "source": [
    "# to shuffle the data\n",
    "random.shuffle(data)"
   ]
  },
  {
   "cell_type": "code",
   "execution_count": null,
   "id": "f56a39be",
   "metadata": {},
   "outputs": [],
   "source": [
    "X = []\n",
    "y = []\n",
    "\n",
    "for features, labels in data:\n",
    "    X.append(features)\n",
    "    y.append(labels)"
   ]
  },
  {
   "cell_type": "code",
   "execution_count": null,
   "id": "1a78a065",
   "metadata": {},
   "outputs": [],
   "source": [
    "# changed X & y into arrays and stored it in respective variables\n",
    "X = np.array(X)\n",
    "y = np.array(y)"
   ]
  },
  {
   "cell_type": "code",
   "execution_count": null,
   "id": "093080fa",
   "metadata": {},
   "outputs": [],
   "source": [
    "X"
   ]
  },
  {
   "cell_type": "code",
   "execution_count": null,
   "id": "a365e938",
   "metadata": {
    "scrolled": true
   },
   "outputs": [],
   "source": [
    "y"
   ]
  },
  {
   "cell_type": "code",
   "execution_count": null,
   "id": "83e5319c",
   "metadata": {
    "scrolled": true
   },
   "outputs": [],
   "source": [
    "# storing the data in a pickle file\n",
    "X = pickle.dump(X,open('X.pkl', 'wb'))\n",
    "y = pickle.dump(y,open('y.pkl', 'wb'))\n"
   ]
  },
  {
   "cell_type": "code",
   "execution_count": null,
   "id": "9606d1b9",
   "metadata": {},
   "outputs": [],
   "source": []
  }
 ],
 "metadata": {
  "kernelspec": {
   "display_name": "Python 3.10.5 64-bit",
   "language": "python",
   "name": "python3"
  },
  "language_info": {
   "codemirror_mode": {
    "name": "ipython",
    "version": 3
   },
   "file_extension": ".py",
   "mimetype": "text/x-python",
   "name": "python",
   "nbconvert_exporter": "python",
   "pygments_lexer": "ipython3",
   "version": "3.10.5"
  },
  "vscode": {
   "interpreter": {
    "hash": "e7370f93d1d0cde622a1f8e1c04877d8463912d04d973331ad4851f04de6915a"
   }
  }
 },
 "nbformat": 4,
 "nbformat_minor": 5
}
