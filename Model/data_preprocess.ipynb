{
 "cells": [
  {
   "cell_type": "markdown",
   "id": "378c559d",
   "metadata": {},
   "source": [
    "## Part 1 - Data Preprocessing\n"
   ]
  },
  {
   "cell_type": "code",
   "execution_count": null,
   "id": "3b0a337f",
   "metadata": {},
   "outputs": [],
   "source": "# Import necessary libraries\nimport numpy as np  # For numerical operations and array handling\nimport cv2 as cv  # OpenCV for image processing\nimport random  # For shuffling data\nimport os  # For file and directory operations\nimport matplotlib.pyplot as plt  # For data visualization\nimport pickle  # For saving processed data to disk\n%matplotlib inline"
  },
  {
   "cell_type": "code",
   "execution_count": null,
   "id": "850322e9",
   "metadata": {},
   "outputs": [],
   "source": "# Define the dataset directory path\nDIRECTORY = r'C:\\Users\\Arjun M S\\Desktop\\build-from-home\\dataset'\n# A raw string (r'...') is used to treat backslash (\\) as a normal character\n\n# Define the three classes for classification\nCATEGORIES = ['mammooty','mohanlal','random']"
  },
  {
   "cell_type": "code",
   "execution_count": null,
   "id": "f01e99e7",
   "metadata": {},
   "outputs": [],
   "source": "# Set the target image size for model input\nIMG_SIZE = 224\n\n# Initialize list to store image data and labels\ndata = []\n\n# Process and label all images from the dataset\nfor category in CATEGORIES:\n    # Build path to category folder\n    folder = os.path.join(DIRECTORY, category)\n    \n    # Iterate through all images in the category folder\n    for img in os.listdir(folder):\n        # Build full path to image file\n        img_path = os.path.join(folder, img)\n        \n        # Assign numeric label based on category index (0: mammooty, 1: mohanlal, 2: random)\n        label = CATEGORIES.index(category)\n        \n        # Read image in grayscale mode\n        img_arr = cv.imread(img_path, cv.IMREAD_GRAYSCALE)\n        \n        # Resize image to standard size (224x224)\n        img_arr = cv.resize(img_arr,(IMG_SIZE,IMG_SIZE))\n        \n        # Append [image, label] pair to data list\n        data.append([img_arr,label])"
  },
  {
   "cell_type": "code",
   "execution_count": null,
   "id": "738cc5fa",
   "metadata": {},
   "outputs": [],
   "source": "# Shuffle the data to randomize the order\n# This ensures the model doesn't learn based on the order of data\nrandom.shuffle(data)"
  },
  {
   "cell_type": "code",
   "execution_count": null,
   "id": "f56a39be",
   "metadata": {},
   "outputs": [],
   "source": "# Separate features (X) and labels (y)\nX = []  # Will store image arrays (features)\ny = []  # Will store corresponding labels\n\n# Extract features and labels from the data list\nfor features, labels in data:\n    X.append(features)\n    y.append(labels)"
  },
  {
   "cell_type": "code",
   "execution_count": null,
   "id": "1a78a065",
   "metadata": {},
   "outputs": [],
   "source": "# Convert lists to NumPy arrays for efficient computation\n# X contains all image data, y contains all corresponding labels\nX = np.array(X)\ny = np.array(y)"
  },
  {
   "cell_type": "code",
   "execution_count": null,
   "id": "093080fa",
   "metadata": {},
   "outputs": [],
   "source": "# Display the features array\nX"
  },
  {
   "cell_type": "code",
   "execution_count": null,
   "id": "a365e938",
   "metadata": {
    "scrolled": true
   },
   "outputs": [],
   "source": "# Display the labels array\ny"
  },
  {
   "cell_type": "code",
   "execution_count": null,
   "id": "83e5319c",
   "metadata": {
    "scrolled": true
   },
   "outputs": [],
   "source": "# Save the preprocessed data to pickle files for later use\n# Pickle files preserve the NumPy array format and can be loaded quickly\nX = pickle.dump(X,open('X.pkl', 'wb'))  # Save features\ny = pickle.dump(y,open('y.pkl', 'wb'))  # Save labels"
  },
  {
   "cell_type": "code",
   "execution_count": null,
   "id": "9606d1b9",
   "metadata": {},
   "outputs": [],
   "source": []
  }
 ],
 "metadata": {
  "kernelspec": {
   "display_name": "Python 3.10.5 64-bit",
   "language": "python",
   "name": "python3"
  },
  "language_info": {
   "codemirror_mode": {
    "name": "ipython",
    "version": 3
   },
   "file_extension": ".py",
   "mimetype": "text/x-python",
   "name": "python",
   "nbconvert_exporter": "python",
   "pygments_lexer": "ipython3",
   "version": "3.10.5"
  },
  "vscode": {
   "interpreter": {
    "hash": "e7370f93d1d0cde622a1f8e1c04877d8463912d04d973331ad4851f04de6915a"
   }
  }
 },
 "nbformat": 4,
 "nbformat_minor": 5
}