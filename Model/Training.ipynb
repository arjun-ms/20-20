{
 "cells": [
  {
   "cell_type": "markdown",
   "id": "ccf1cf1f",
   "metadata": {},
   "source": [
    "## Part 2 - Building the CNN"
   ]
  },
  {
   "cell_type": "code",
   "execution_count": null,
   "id": "9c846ca1",
   "metadata": {},
   "outputs": [],
   "source": [
    "# Import pickle for loading preprocessed data\n",
    "import pickle"
   ]
  },
  {
   "cell_type": "code",
   "execution_count": null,
   "id": "72c15888",
   "metadata": {},
   "outputs": [],
   "source": [
    "# Load the preprocessed features and labels from pickle files\n",
    "X = pickle.load(open('X.pkl', 'rb'))  # Load image features\n",
    "y = pickle.load(open('y.pkl', 'rb'))  # Load corresponding labels"
   ]
  },
  {
   "cell_type": "code",
   "execution_count": null,
   "id": "a242d007",
   "metadata": {},
   "outputs": [],
   "source": [
    "# Display the features array\n",
    "X"
   ]
  },
  {
   "cell_type": "code",
   "execution_count": null,
   "id": "c23f7dc3",
   "metadata": {},
   "outputs": [],
   "source": [
    "# Display the labels array\n",
    "y"
   ]
  },
  {
   "cell_type": "code",
   "execution_count": null,
   "id": "0254bdfe",
   "metadata": {},
   "outputs": [],
   "source": [
    "# Normalize pixel values to range [0, 1] for better model training\n",
    "X = X/255"
   ]
  },
  {
   "cell_type": "code",
   "execution_count": null,
   "id": "9e8a7508",
   "metadata": {},
   "outputs": [],
   "source": [
    "# Display normalized features\n",
    "X"
   ]
  },
  {
   "cell_type": "code",
   "execution_count": null,
   "id": "f306c038",
   "metadata": {},
   "outputs": [],
   "source": [
    "# Check the current shape of the features array\n",
    "X.shape"
   ]
  },
  {
   "cell_type": "code",
   "execution_count": null,
   "id": "3f6b649e",
   "metadata": {
    "scrolled": true
   },
   "outputs": [],
   "source": [
    "# Reshape data to include channel dimension for CNN input\n",
    "# Shape: (samples, height, width, channels) where 1 = grayscale\n",
    "X = X.reshape(-1, 224, 224, 1)"
   ]
  },
  {
   "cell_type": "code",
   "execution_count": null,
   "id": "340a2128",
   "metadata": {},
   "outputs": [],
   "source": [
    "# Verify the new shape after reshaping\n",
    "X.shape"
   ]
  },
  {
   "cell_type": "code",
   "execution_count": null,
   "id": "33fb7a76",
   "metadata": {},
   "outputs": [],
   "source": [
    "# Import Keras libraries for building the CNN model\n",
    "from keras.models import Sequential  # For creating sequential model\n",
    "from keras.layers import Conv2D, MaxPooling2D, Dense, Flatten, Dropout  # Layer types"
   ]
  },
  {
   "cell_type": "code",
   "execution_count": null,
   "id": "e8619029",
   "metadata": {},
   "outputs": [],
   "source": [
    "# Initialize the Convolutional Neural Network\n",
    "model = Sequential()"
   ]
  },
  {
   "cell_type": "code",
   "execution_count": null,
   "id": "e4cb2839",
   "metadata": {},
   "outputs": [],
   "source": [
    "# Step 1 - First Convolutional Layer\n",
    "# 64 filters of size 3x3, ReLU activation function\n",
    "model.add(Conv2D(64,(3,3), activation='relu'))\n",
    "\n",
    "# Step 2 - First Pooling Layer\n",
    "# 2x2 max pooling to reduce spatial dimensions\n",
    "model.add(MaxPooling2D((2,2)))\n",
    "\n",
    "# Adding a second convolutional block\n",
    "# Another 64 filters of 3x3 for deeper feature extraction\n",
    "model.add(Conv2D(64,(3,3), activation='relu'))\n",
    "model.add(MaxPooling2D((2,2)))\n",
    "\n",
    "# Adding a third convolutional block\n",
    "# Final convolutional layer for complex pattern recognition\n",
    "model.add(Conv2D(64,(3,3), activation='relu'))\n",
    "model.add(MaxPooling2D((2,2)))\n",
    "\n",
    "# Dropout layer to prevent overfitting by randomly dropping 40% of connections\n",
    "model.add(Dropout(0.4))\n",
    "\n",
    "# Step 3 - Flattening\n",
    "# Convert 2D feature maps to 1D feature vector\n",
    "model.add(Flatten())\n",
    "\n",
    "# Step 4 - Full Connection (Hidden Layer)\n",
    "# Dense layer with 128 neurons for learning complex patterns\n",
    "model.add(Dense(128, input_shape = X.shape[1:], activation = 'relu'))\n",
    "\n",
    "# Step 5 - Output Layer\n",
    "# 3 neurons for 3 classes (Mammootty, Mohanlal, Unknown)\n",
    "# Softmax activation for probability distribution across classes\n",
    "model.add(Dense(3, activation= 'softmax'))"
   ]
  },
  {
   "cell_type": "code",
   "execution_count": null,
   "id": "2f239525",
   "metadata": {},
   "outputs": [],
   "source": "# Compile the CNN model\n# Adam optimizer: adaptive learning rate optimization algorithm\n# sparse_categorical_crossentropy: loss function for multi-class classification with integer labels\n# accuracy: metric to monitor during training\nmodel.compile(optimizer = 'adam', loss='sparse_categorical_crossentropy', metrics = ['accuracy'])"
  },
  {
   "cell_type": "code",
   "execution_count": null,
   "id": "2c6d9180",
   "metadata": {
    "scrolled": true
   },
   "outputs": [],
   "source": "# Train the model\n# epochs=10: train for 10 complete passes through the dataset\n# validation_split=0.2: use 20% of data for validation during training\nhist = model.fit(X, y, epochs=10, validation_split=0.2)"
  },
  {
   "cell_type": "code",
   "execution_count": null,
   "id": "cc34347a",
   "metadata": {},
   "outputs": [],
   "source": "# Display model architecture summary\n# Shows layers, output shapes, and trainable parameters\nmodel.summary()"
  },
  {
   "cell_type": "code",
   "execution_count": null,
   "id": "1f65bfca",
   "metadata": {},
   "outputs": [],
   "source": "# Evaluate model accuracy on the training data\nscores = model.evaluate(X,y,verbose=0)\nprint(\"Accuracy: %.2f%%\" % (scores[1]*100))"
  },
  {
   "cell_type": "code",
   "execution_count": null,
   "id": "582c9ac3",
   "metadata": {},
   "outputs": [],
   "source": "# Verify the shape of features array\nX.shape"
  },
  {
   "cell_type": "code",
   "execution_count": null,
   "id": "466b56d3",
   "metadata": {},
   "outputs": [],
   "source": "# Import matplotlib for visualizing training metrics\nimport matplotlib.pyplot as plt"
  },
  {
   "cell_type": "code",
   "execution_count": null,
   "id": "fb0ebddb",
   "metadata": {},
   "outputs": [],
   "source": "# Plot training and validation loss over epochs\nfig = plt.figure()\nplt.plot(hist.history['loss'],color='teal',label='loss')  # Training loss\nplt.plot(hist.history['val_loss'],color='orange',label='val_loss')  # Validation loss\nplt.suptitle('Loss',fontsize=20)\nplt.legend(loc=\"upper left\")\nplt.show"
  },
  {
   "cell_type": "code",
   "execution_count": null,
   "id": "36208bdd",
   "metadata": {},
   "outputs": [],
   "source": "# Plot training and validation accuracy over epochs\nfig = plt.figure()\nplt.plot(hist.history['accuracy'],color='teal',label='accuracy')  # Training accuracy\nplt.plot(hist.history['val_accuracy'],color='orange',label='val_accuracy')  # Validation accuracy\nplt.suptitle('Accuracy',fontsize=20)\nplt.legend(loc=\"upper left\")\nplt.show"
  },
  {
   "cell_type": "code",
   "execution_count": null,
   "id": "9418fe74",
   "metadata": {},
   "outputs": [],
   "source": "# Save the trained model to disk\n# Saves model architecture, weights, and optimizer state\nmodel.save('3-class-improved.h5')"
  }
 ],
 "metadata": {
  "kernelspec": {
   "display_name": "Python 3",
   "language": "python",
   "name": "python3"
  },
  "language_info": {
   "codemirror_mode": {
    "name": "ipython",
    "version": 3
   },
   "file_extension": ".py",
   "mimetype": "text/x-python",
   "name": "python",
   "nbconvert_exporter": "python",
   "pygments_lexer": "ipython3",
   "version": "3.9.4"
  }
 },
 "nbformat": 4,
 "nbformat_minor": 5
}